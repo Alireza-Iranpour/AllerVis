{
 "cells": [
  {
   "cell_type": "code",
   "execution_count": 1,
   "metadata": {},
   "outputs": [],
   "source": [
    "import numpy as np\n",
    "import pandas as pd"
   ]
  },
  {
   "cell_type": "code",
   "execution_count": 35,
   "metadata": {},
   "outputs": [],
   "source": [
    "entity_code = {\n",
    "    'China': 'CHN',\n",
    "    'India': 'IND',\n",
    "    'Nigeria': 'NGA',\n",
    "    'USA': 'USA',\n",
    "    'Indonesia': 'IDN',\n",
    "    'Vietnam': 'VNM',\n",
    "    'Brazil': 'BRA',\n",
    "    'Mexico': 'MEX',\n",
    "    'SouthAfrica': 'ZAF',\n",
    "    'Canada': 'CAN',\n",
    "    'Germany': 'DEU',\n",
    "    'UK': 'GBR',\n",
    "    'Thailand': 'THA',\n",
    "    'Malaysia': 'MYS',\n",
    "    'Philippines': 'PHL',\n",
    "    'Algeria': 'DZA',\n",
    "    'Poland': 'POL',\n",
    "    'Japan': 'JPN',\n",
    "    'France': 'FRA',\n",
    "    'Russia': 'RUS',\n",
    "    'Spain': 'ESP',\n",
    "    'UAE': 'ARE',\n",
    "    'Turkey': 'TUR',\n",
    "    'Australia': 'AUS',\n",
    "    'KoreaRep': 'KOR',\n",
    "    'Tunisia': 'TUN',\n",
    "    'Iran': 'IRN',\n",
    "    'Netherlands': 'NLD',\n",
    "    'Greece': 'GRC',\n",
    "    'Morocco': 'MAR',\n",
    "    'SaudiArabia': 'SAU',\n",
    "    'Italy': 'ITA'\n",
    "    \n",
    "}\n",
    "\n",
    "new_country_name = {\n",
    "    'USA': 'United States',\n",
    "    'UK': 'United Kingdom',\n",
    "    'SouthAfrica': 'South Africa',\n",
    "    'UAE': 'United Arab Emirates',\n",
    "    'KoreaRep': 'South Korea',\n",
    "    'SaudiArabia': 'Saudi Arabia'\n",
    "}"
   ]
  },
  {
   "cell_type": "markdown",
   "metadata": {},
   "source": [
    "# Cereals"
   ]
  },
  {
   "cell_type": "code",
   "execution_count": 13,
   "metadata": {},
   "outputs": [
    {
     "data": {
      "text/plain": [
       "Index(['Entity', 'Code', 'Year',\n",
       "       'Food Balance Sheets: Wheat and products - Food supply (kcal/capita/day) (FAO (2017))',\n",
       "       'Food Balance Sheets: Rice (Milled Equivalent) - Food supply (kcal/capita/day) (FAO (2017))',\n",
       "       'Food Balance Sheets: Barley and products - Food supply (kcal/capita/day) (FAO (2017))',\n",
       "       'Food Balance Sheets: Maize and products - Food supply (kcal/capita/day) (FAO (2017))',\n",
       "       'Food Balance Sheets: Rye and products - Food supply (kcal/capita/day) (FAO (2017))',\n",
       "       'Food Balance Sheets: Oats - Food supply (kcal/capita/day) (FAO (2017))',\n",
       "       'Food Balance Sheets: Sorghum and products - Food supply (kcal/capita/day) (FAO (2017))'],\n",
       "      dtype='object')"
      ]
     },
     "execution_count": 13,
     "metadata": {},
     "output_type": "execute_result"
    }
   ],
   "source": [
    "cereal_df = pd.read_csv('../Food Allergies Data/per-capita-consumption-of-cereals-by-commodity-type-daily-kilocalories.csv')\n",
    "cereal_df.columns"
   ]
  },
  {
   "cell_type": "markdown",
   "metadata": {},
   "source": [
    "#### Isolating Wheat"
   ]
  },
  {
   "cell_type": "code",
   "execution_count": 14,
   "metadata": {},
   "outputs": [],
   "source": [
    "with open('../Food Allergies Data/wheat-consumption-per-capita.csv', 'w') as f:\n",
    "    f.write(cereal_df.to_csv(columns=['Entity', 'Code', 'Year', 'Food Balance Sheets: Wheat and products - Food supply (kcal/capita/day) (FAO (2017))']))\n",
    "f.close()"
   ]
  },
  {
   "cell_type": "markdown",
   "metadata": {},
   "source": [
    "#### Isolating Rice"
   ]
  },
  {
   "cell_type": "code",
   "execution_count": 15,
   "metadata": {},
   "outputs": [],
   "source": [
    "with open('../Food Allergies Data/rice-consumption-per-capita.csv', 'w') as f:\n",
    "    f.write(cereal_df.to_csv(columns=['Entity', 'Code', 'Year', 'Food Balance Sheets: Rice (Milled Equivalent) - Food supply (kcal/capita/day) (FAO (2017))']))\n",
    "f.close()"
   ]
  },
  {
   "cell_type": "markdown",
   "metadata": {},
   "source": [
    "#### Isolating Oats"
   ]
  },
  {
   "cell_type": "code",
   "execution_count": 16,
   "metadata": {},
   "outputs": [],
   "source": [
    "with open('../Food Allergies Data/oats-consumption-per-capita.csv', 'w') as f:\n",
    "    f.write(cereal_df.to_csv(columns=['Entity', 'Code', 'Year', 'Food Balance Sheets: Oats - Food supply (kcal/capita/day) (FAO (2017))']))\n",
    "f.close()"
   ]
  },
  {
   "cell_type": "markdown",
   "metadata": {},
   "source": [
    "#### Isolating Corn (Maize)"
   ]
  },
  {
   "cell_type": "code",
   "execution_count": 17,
   "metadata": {},
   "outputs": [],
   "source": [
    "with open('../Food Allergies Data/corn-maize-consumption-per-capita.csv', 'w') as f:\n",
    "    f.write(cereal_df.to_csv(columns=['Entity', 'Code', 'Year', 'Food Balance Sheets: Maize and products - Food supply (kcal/capita/day) (FAO (2017))']))\n",
    "f.close()"
   ]
  },
  {
   "cell_type": "markdown",
   "metadata": {},
   "source": [
    "#### Isolating Barley"
   ]
  },
  {
   "cell_type": "code",
   "execution_count": 18,
   "metadata": {},
   "outputs": [],
   "source": [
    "with open('../Food Allergies Data/barley-consumption-per-capita.csv', 'w') as f:\n",
    "    f.write(cereal_df.to_csv(columns=['Entity', 'Code', 'Year', 'Food Balance Sheets: Barley and products - Food supply (kcal/capita/day) (FAO (2017))']))\n",
    "f.close()"
   ]
  },
  {
   "cell_type": "markdown",
   "metadata": {},
   "source": [
    "#### Isolating Rye"
   ]
  },
  {
   "cell_type": "code",
   "execution_count": 19,
   "metadata": {},
   "outputs": [],
   "source": [
    "with open('../Food Allergies Data/rye-consumption-per-capita.csv', 'w') as f:\n",
    "    f.write(cereal_df.to_csv(columns=['Entity', 'Code', 'Year', 'Food Balance Sheets: Rye and products - Food supply (kcal/capita/day) (FAO (2017))']))\n",
    "f.close()"
   ]
  },
  {
   "cell_type": "markdown",
   "metadata": {},
   "source": [
    "# Nuts"
   ]
  },
  {
   "cell_type": "code",
   "execution_count": 31,
   "metadata": {},
   "outputs": [],
   "source": [
    "def general_nut_write(csv_header, dirty_s):\n",
    "    ret_string = ''\n",
    "    ret_string += csv_header + '\\n'\n",
    "    for n in range(num_countries):\n",
    "        i = n * fields_per_row\n",
    "\n",
    "        for year in range(2012, 2017):\n",
    "            sp = i + (year-2012) * 3 + 2\n",
    "\n",
    "            co = dirty_s[i]\n",
    "            nco = co\n",
    "            if (co in new_country_name):\n",
    "                nco = new_country_name[co]\n",
    "        \n",
    "            ret_string += nco + ',' +entity_code[co] + ',' + str(year) + ',' +\\\n",
    "                          dirty_s[sp]+','+dirty_s[sp+1] + '\\n'\n",
    "    \n",
    "    return ret_string"
   ]
  },
  {
   "cell_type": "markdown",
   "metadata": {},
   "source": [
    "### Almonds"
   ]
  },
  {
   "cell_type": "code",
   "execution_count": 23,
   "metadata": {},
   "outputs": [],
   "source": [
    "# Source: nutfruit.org\n",
    "dirty_almond_data = '''USA 261,306 0.91 1.81 282,672 0.96 1.91 278,435 0.95 1.91 257,919 0.88 1.76 315,736 0.98 1.96\n",
    "India 94,536 0.08 0.16 46,580 0.04 0.08 60,180 0.05 0.09 78,254 0.06 0.12 82,915 0.06 0.13\n",
    "Germany 72,499 0.89 1.78 78,903 0.97 1.93 72,725 0.90 1.79 71,222 0.88 1.77 73,163 0.89 1.79\n",
    "Spain 59,400 1.29 2.58 49,351 1.07 2.14 79,960 1.69 3.39 64,426 1.40 2.79 72,986 1.57 3.15\n",
    "Italy 37,130 0.61 1.23 39,457 0.65 1.30 40,748 0.68 1.37 39,738 0.66 1.33 41,437 0.70 1.39\n",
    "UAE 38,706 1.80 2.40 41,699 1.00 1.34 41,613 0.88 1.17 49,949 0.91 1.21 41,245 1.30 1.73\n",
    "France 30,309 0.48 0.96 35,525 0.56 1.13 35,690 0.54 1.08 36,834 0.57 1.14 35,941 0.56 1.11\n",
    "Turkey 8,172 0.32 1.27 13,853 0.19 0.76 13,032 0.17 0.69 23,612 0.30 1.20 34,710 0.44 1.75\n",
    "Canada 23,800 0.70 1.39 30,784 0.90 1.80 27,235 0.77 1.54 26,107 0.73 1.45 29,739 0.82 1.64\n",
    "Japan 25,932 0.20 0.27 40,391 0.32 0.43 35,373 0.28 0.37 38,131 0.30 0.40 28,059 0.22 0.29\n",
    "Australia 20,197 0.85 1.55 20,802 0.91 1.65 22,032 0.93 1.69 22,916 0.97 1.76 25,192 1.04 1.90\n",
    "KoreaRep 22,004 0.44 1.76 24,937 0.50 2.02 25,434 0.51 2.02 19,946 0.40 1.59 23,824 0.47 1.88\n",
    "UK 15,646 0.25 0.50 13,922 0.22 0.45 18,187 0.28 0.57 22,465 0.35 0.69 23,244 0.35 0.71\n",
    "China 95,956 0.07 0.29 85,628 0.06 0.26 59,674 0.04 0.16 52,027 0.04 0.11 21,885 0.02 0.05\n",
    "Tunisia 13,200 1.25 1.79 15,976 1.51 2.16 16,395 1.49 2.13 15,377 1.37 1.95 19,028 1.67 2.38\n",
    "Iran 25,056 0.14 0.25 15,093 0.20 0.36 15,064 0.19 0.35 15,412 0.19 0.35 15,474 0.19 0.35\n",
    "Netherlands 13,321 0.80 1.60 19,137 1.15 2.30 14,190 0.85 1.71 14,649 0.87 1.73 15,056 0.89 1.77\n",
    "Greece 12,075 1.07 1.64 10,871 0.96 1.48 10,224 0.92 1.41 8,043 0.73 1.13 12,146 1.09 1.67\n",
    "Morocco 8,879 0.28 0.56 6,745 0.21 0.42 9,110 0.27 0.54 9,956 0.29 0.58 10,101 0.29 0.57\n",
    "SaudiArabia 9,132 0.33 0.44 6,414 0.23 0.31 7,619 0.26 0.35 7,370 0.23 0.31 9,945 0.31 0.41'''"
   ]
  },
  {
   "cell_type": "code",
   "execution_count": 25,
   "metadata": {},
   "outputs": [],
   "source": [
    "dirty_almond_data = dirty_almond_data.split()"
   ]
  },
  {
   "cell_type": "code",
   "execution_count": 28,
   "metadata": {},
   "outputs": [],
   "source": [
    "fields_per_row = 16\n",
    "num_countries = int(len(dirty_almond_data)/fields_per_row)\n",
    "csv_header_almond = 'Entity,Code,Year,AlmondConsumptionPerCapita(kg/year),EstAlmondConsumptionPerCapita(kg/year)'"
   ]
  },
  {
   "cell_type": "code",
   "execution_count": 36,
   "metadata": {},
   "outputs": [
    {
     "data": {
      "text/plain": [
       "'Entity,Code,Year,AlmondConsumptionPerCapita(kg/year),EstAlmondConsumptionPerCapita(kg/year)\\nUnited States,USA,2012,0.91,1.81\\nUnited States,USA,2013,0.96,1.91\\nUnited States,USA,2014,0.95,1.91\\nUnited States,USA,2015,0.88,1.76\\nUnited States,USA,2016,0.98,1.96\\nIndia,IND,2012,0.08,0.16\\nIndia,IND,2013,0.04,0.08\\nIndia,IND,2014,0.05,0.09\\nIndia,IND,2015,0.06,0.12\\nIndia,IND,2016,0.06,0.13\\nGermany,DEU,2012,0.89,1.78\\nGermany,DEU,2013,0.97,1.93\\nGermany,DEU,2014,0.90,1.79\\nGermany,DEU,2015,0.88,1.77\\nGermany,DEU,2016,0.89,1.79\\nSpain,ESP,2012,1.29,2.58\\nSpain,ESP,2013,1.07,2.14\\nSpain,ESP,2014,1.69,3.39\\nSpain,ESP,2015,1.40,2.79\\nSpain,ESP,2016,1.57,3.15\\nItaly,ITA,2012,0.61,1.23\\nItaly,ITA,2013,0.65,1.30\\nItaly,ITA,2014,0.68,1.37\\nItaly,ITA,2015,0.66,1.33\\nItaly,ITA,2016,0.70,1.39\\nUnited Arab Emirates,ARE,2012,1.80,2.40\\nUnited Arab Emirates,ARE,2013,1.00,1.34\\nUnited Arab Emirates,ARE,2014,0.88,1.17\\nUnited Arab Emirates,ARE,2015,0.91,1.21\\nUnited Arab Emirates,ARE,2016,1.30,1.73\\nFrance,FRA,2012,0.48,0.96\\nFrance,FRA,2013,0.56,1.13\\nFrance,FRA,2014,0.54,1.08\\nFrance,FRA,2015,0.57,1.14\\nFrance,FRA,2016,0.56,1.11\\nTurkey,TUR,2012,0.32,1.27\\nTurkey,TUR,2013,0.19,0.76\\nTurkey,TUR,2014,0.17,0.69\\nTurkey,TUR,2015,0.30,1.20\\nTurkey,TUR,2016,0.44,1.75\\nCanada,CAN,2012,0.70,1.39\\nCanada,CAN,2013,0.90,1.80\\nCanada,CAN,2014,0.77,1.54\\nCanada,CAN,2015,0.73,1.45\\nCanada,CAN,2016,0.82,1.64\\nJapan,JPN,2012,0.20,0.27\\nJapan,JPN,2013,0.32,0.43\\nJapan,JPN,2014,0.28,0.37\\nJapan,JPN,2015,0.30,0.40\\nJapan,JPN,2016,0.22,0.29\\nAustralia,AUS,2012,0.85,1.55\\nAustralia,AUS,2013,0.91,1.65\\nAustralia,AUS,2014,0.93,1.69\\nAustralia,AUS,2015,0.97,1.76\\nAustralia,AUS,2016,1.04,1.90\\nSouth Korea,KOR,2012,0.44,1.76\\nSouth Korea,KOR,2013,0.50,2.02\\nSouth Korea,KOR,2014,0.51,2.02\\nSouth Korea,KOR,2015,0.40,1.59\\nSouth Korea,KOR,2016,0.47,1.88\\nUnited Kingdom,GBR,2012,0.25,0.50\\nUnited Kingdom,GBR,2013,0.22,0.45\\nUnited Kingdom,GBR,2014,0.28,0.57\\nUnited Kingdom,GBR,2015,0.35,0.69\\nUnited Kingdom,GBR,2016,0.35,0.71\\nChina,CHN,2012,0.07,0.29\\nChina,CHN,2013,0.06,0.26\\nChina,CHN,2014,0.04,0.16\\nChina,CHN,2015,0.04,0.11\\nChina,CHN,2016,0.02,0.05\\nTunisia,TUN,2012,1.25,1.79\\nTunisia,TUN,2013,1.51,2.16\\nTunisia,TUN,2014,1.49,2.13\\nTunisia,TUN,2015,1.37,1.95\\nTunisia,TUN,2016,1.67,2.38\\nIran,IRN,2012,0.14,0.25\\nIran,IRN,2013,0.20,0.36\\nIran,IRN,2014,0.19,0.35\\nIran,IRN,2015,0.19,0.35\\nIran,IRN,2016,0.19,0.35\\nNetherlands,NLD,2012,0.80,1.60\\nNetherlands,NLD,2013,1.15,2.30\\nNetherlands,NLD,2014,0.85,1.71\\nNetherlands,NLD,2015,0.87,1.73\\nNetherlands,NLD,2016,0.89,1.77\\nGreece,GRC,2012,1.07,1.64\\nGreece,GRC,2013,0.96,1.48\\nGreece,GRC,2014,0.92,1.41\\nGreece,GRC,2015,0.73,1.13\\nGreece,GRC,2016,1.09,1.67\\nMorocco,MAR,2012,0.28,0.56\\nMorocco,MAR,2013,0.21,0.42\\nMorocco,MAR,2014,0.27,0.54\\nMorocco,MAR,2015,0.29,0.58\\nMorocco,MAR,2016,0.29,0.57\\nSaudi Arabia,SAU,2012,0.33,0.44\\nSaudi Arabia,SAU,2013,0.23,0.31\\nSaudi Arabia,SAU,2014,0.26,0.35\\nSaudi Arabia,SAU,2015,0.23,0.31\\nSaudi Arabia,SAU,2016,0.31,0.41\\n'"
      ]
     },
     "execution_count": 36,
     "metadata": {},
     "output_type": "execute_result"
    }
   ],
   "source": [
    "with open('../Food Allergies Data/almond-consumption-per-capita.csv', 'w') as f:\n",
    "general_nut_write(csv_header_almond, dirty_almond_data)"
   ]
  },
  {
   "cell_type": "code",
   "execution_count": null,
   "metadata": {},
   "outputs": [],
   "source": []
  }
 ],
 "metadata": {
  "kernelspec": {
   "display_name": "Python 3",
   "language": "python",
   "name": "python3"
  },
  "language_info": {
   "codemirror_mode": {
    "name": "ipython",
    "version": 3
   },
   "file_extension": ".py",
   "mimetype": "text/x-python",
   "name": "python",
   "nbconvert_exporter": "python",
   "pygments_lexer": "ipython3",
   "version": "3.7.2"
  }
 },
 "nbformat": 4,
 "nbformat_minor": 4
}
