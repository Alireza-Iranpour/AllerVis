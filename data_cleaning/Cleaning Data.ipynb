{
 "cells": [
  {
   "cell_type": "code",
   "execution_count": 1,
   "metadata": {},
   "outputs": [],
   "source": [
    "import numpy as np\n",
    "import pandas as pd"
   ]
  },
  {
   "cell_type": "code",
   "execution_count": 82,
   "metadata": {},
   "outputs": [],
   "source": [
    "entity_code = {\n",
    "    'China': 'CHN',\n",
    "    'India': 'IND',\n",
    "    'Nigeria': 'NGA',\n",
    "    'USA': 'USA',\n",
    "    'Indonesia': 'IDN',\n",
    "    'Vietnam': 'VNM',\n",
    "    'Brazil': 'BRA',\n",
    "    'Mexico': 'MEX',\n",
    "    'SouthAfrica': 'ZAF',\n",
    "    'Canada': 'CAN',\n",
    "    'Germany': 'DEU',\n",
    "    'UK': 'GBR',\n",
    "    'Thailand': 'THA',\n",
    "    'Malaysia': 'MYS',\n",
    "    'Philippines': 'PHL',\n",
    "    'Algeria': 'DZA',\n",
    "    'Poland': 'POL',\n",
    "    'Japan': 'JPN',\n",
    "    'France': 'FRA',\n",
    "    'Russia': 'RUS',\n",
    "    'Spain': 'ESP',\n",
    "    'UAE': 'ARE',\n",
    "    'Turkey': 'TUR',\n",
    "    'Australia': 'AUS',\n",
    "    'KoreaRep': 'KOR',\n",
    "    'Tunisia': 'TUN',\n",
    "    'Iran': 'IRN',\n",
    "    'Netherlands': 'NLD',\n",
    "    'Greece': 'GRC',\n",
    "    'Morocco': 'MAR',\n",
    "    'SaudiArabia': 'SAU',\n",
    "    'Italy': 'ITA',\n",
    "    'Belgium': 'BEL',\n",
    "    'NewZealand': 'NZL',\n",
    "    'Ireland': 'IRL',\n",
    "    'Sweden': 'SWE',\n",
    "    'Czech': 'CZE',\n",
    "    'Portugal': 'PRT',\n",
    "    'Slovakia': 'SVK',\n",
    "    'Austria': 'AUT',\n",
    "    'Switzerland': 'CHE',\n",
    "    'Israel': 'ISR',\n",
    "    'Azerbaijan': 'AZE',\n",
    "    'Egypt': 'EGY',\n",
    "    'Kenya': 'KEN',\n",
    "    'Singapore':\n",
    "}\n",
    "\n",
    "new_country_name = {\n",
    "    'USA': 'United States',\n",
    "    'UK': 'United Kingdom',\n",
    "    'SouthAfrica': 'South Africa',\n",
    "    'UAE': 'United Arab Emirates',\n",
    "    'KoreaRep': 'South Korea',\n",
    "    'SaudiArabia': 'Saudi Arabia',\n",
    "    'NewZealand': 'New Zealand',\n",
    "    'Czech': 'Czech Republic'\n",
    "}"
   ]
  },
  {
   "cell_type": "markdown",
   "metadata": {},
   "source": [
    "# Cereals"
   ]
  },
  {
   "cell_type": "code",
   "execution_count": 13,
   "metadata": {},
   "outputs": [
    {
     "data": {
      "text/plain": [
       "Index(['Entity', 'Code', 'Year',\n",
       "       'Food Balance Sheets: Wheat and products - Food supply (kcal/capita/day) (FAO (2017))',\n",
       "       'Food Balance Sheets: Rice (Milled Equivalent) - Food supply (kcal/capita/day) (FAO (2017))',\n",
       "       'Food Balance Sheets: Barley and products - Food supply (kcal/capita/day) (FAO (2017))',\n",
       "       'Food Balance Sheets: Maize and products - Food supply (kcal/capita/day) (FAO (2017))',\n",
       "       'Food Balance Sheets: Rye and products - Food supply (kcal/capita/day) (FAO (2017))',\n",
       "       'Food Balance Sheets: Oats - Food supply (kcal/capita/day) (FAO (2017))',\n",
       "       'Food Balance Sheets: Sorghum and products - Food supply (kcal/capita/day) (FAO (2017))'],\n",
       "      dtype='object')"
      ]
     },
     "execution_count": 13,
     "metadata": {},
     "output_type": "execute_result"
    }
   ],
   "source": [
    "cereal_df = pd.read_csv('../Food Allergies Data/per-capita-consumption-of-cereals-by-commodity-type-daily-kilocalories.csv')\n",
    "cereal_df.columns"
   ]
  },
  {
   "cell_type": "markdown",
   "metadata": {},
   "source": [
    "#### Isolating Wheat"
   ]
  },
  {
   "cell_type": "code",
   "execution_count": 14,
   "metadata": {},
   "outputs": [],
   "source": [
    "with open('../Food Allergies Data/wheat-consumption-per-capita.csv', 'w') as f:\n",
    "    f.write(cereal_df.to_csv(columns=['Entity', 'Code', 'Year', 'Food Balance Sheets: Wheat and products - Food supply (kcal/capita/day) (FAO (2017))']))\n",
    "f.close()"
   ]
  },
  {
   "cell_type": "markdown",
   "metadata": {},
   "source": [
    "#### Isolating Rice"
   ]
  },
  {
   "cell_type": "code",
   "execution_count": 15,
   "metadata": {},
   "outputs": [],
   "source": [
    "with open('../Food Allergies Data/rice-consumption-per-capita.csv', 'w') as f:\n",
    "    f.write(cereal_df.to_csv(columns=['Entity', 'Code', 'Year', 'Food Balance Sheets: Rice (Milled Equivalent) - Food supply (kcal/capita/day) (FAO (2017))']))\n",
    "f.close()"
   ]
  },
  {
   "cell_type": "markdown",
   "metadata": {},
   "source": [
    "#### Isolating Oats"
   ]
  },
  {
   "cell_type": "code",
   "execution_count": 16,
   "metadata": {},
   "outputs": [],
   "source": [
    "with open('../Food Allergies Data/oats-consumption-per-capita.csv', 'w') as f:\n",
    "    f.write(cereal_df.to_csv(columns=['Entity', 'Code', 'Year', 'Food Balance Sheets: Oats - Food supply (kcal/capita/day) (FAO (2017))']))\n",
    "f.close()"
   ]
  },
  {
   "cell_type": "markdown",
   "metadata": {},
   "source": [
    "#### Isolating Corn (Maize)"
   ]
  },
  {
   "cell_type": "code",
   "execution_count": 17,
   "metadata": {},
   "outputs": [],
   "source": [
    "with open('../Food Allergies Data/corn-maize-consumption-per-capita.csv', 'w') as f:\n",
    "    f.write(cereal_df.to_csv(columns=['Entity', 'Code', 'Year', 'Food Balance Sheets: Maize and products - Food supply (kcal/capita/day) (FAO (2017))']))\n",
    "f.close()"
   ]
  },
  {
   "cell_type": "markdown",
   "metadata": {},
   "source": [
    "#### Isolating Barley"
   ]
  },
  {
   "cell_type": "code",
   "execution_count": 18,
   "metadata": {},
   "outputs": [],
   "source": [
    "with open('../Food Allergies Data/barley-consumption-per-capita.csv', 'w') as f:\n",
    "    f.write(cereal_df.to_csv(columns=['Entity', 'Code', 'Year', 'Food Balance Sheets: Barley and products - Food supply (kcal/capita/day) (FAO (2017))']))\n",
    "f.close()"
   ]
  },
  {
   "cell_type": "markdown",
   "metadata": {},
   "source": [
    "#### Isolating Rye"
   ]
  },
  {
   "cell_type": "code",
   "execution_count": 19,
   "metadata": {},
   "outputs": [],
   "source": [
    "with open('../Food Allergies Data/rye-consumption-per-capita.csv', 'w') as f:\n",
    "    f.write(cereal_df.to_csv(columns=['Entity', 'Code', 'Year', 'Food Balance Sheets: Rye and products - Food supply (kcal/capita/day) (FAO (2017))']))\n",
    "f.close()"
   ]
  },
  {
   "cell_type": "markdown",
   "metadata": {},
   "source": [
    "# Nuts"
   ]
  },
  {
   "cell_type": "code",
   "execution_count": 60,
   "metadata": {},
   "outputs": [],
   "source": [
    "def general_nut_write(csv_header, dirty_s, fields_per_row, num_countries):\n",
    "    ret_string = ''\n",
    "    ret_string += csv_header + '\\n'\n",
    "    for n in range(num_countries):\n",
    "        i = n * fields_per_row\n",
    "\n",
    "        for year in range(2012, 2017):\n",
    "            sp = i + (year-2012) * 3 + 2\n",
    "\n",
    "            co = dirty_s[i]\n",
    "            nco = co\n",
    "            if (co in new_country_name):\n",
    "                nco = new_country_name[co]\n",
    "        \n",
    "            ret_string += nco + ',' +entity_code[co] + ',' + str(year) + ',' +\\\n",
    "                          dirty_s[sp]+','+dirty_s[sp+1] + '\\n'\n",
    "    \n",
    "    return ret_string"
   ]
  },
  {
   "cell_type": "markdown",
   "metadata": {},
   "source": [
    "### Almonds"
   ]
  },
  {
   "cell_type": "code",
   "execution_count": 51,
   "metadata": {},
   "outputs": [],
   "source": [
    "# Source: nutfruit.org\n",
    "dirty_almond_data = '''USA 261,306 0.91 1.81 282,672 0.96 1.91 278,435 0.95 1.91 257,919 0.88 1.76 315,736 0.98 1.96\n",
    "India 94,536 0.08 0.16 46,580 0.04 0.08 60,180 0.05 0.09 78,254 0.06 0.12 82,915 0.06 0.13\n",
    "Germany 72,499 0.89 1.78 78,903 0.97 1.93 72,725 0.90 1.79 71,222 0.88 1.77 73,163 0.89 1.79\n",
    "Spain 59,400 1.29 2.58 49,351 1.07 2.14 79,960 1.69 3.39 64,426 1.40 2.79 72,986 1.57 3.15\n",
    "Italy 37,130 0.61 1.23 39,457 0.65 1.30 40,748 0.68 1.37 39,738 0.66 1.33 41,437 0.70 1.39\n",
    "UAE 38,706 1.80 2.40 41,699 1.00 1.34 41,613 0.88 1.17 49,949 0.91 1.21 41,245 1.30 1.73\n",
    "France 30,309 0.48 0.96 35,525 0.56 1.13 35,690 0.54 1.08 36,834 0.57 1.14 35,941 0.56 1.11\n",
    "Turkey 8,172 0.32 1.27 13,853 0.19 0.76 13,032 0.17 0.69 23,612 0.30 1.20 34,710 0.44 1.75\n",
    "Canada 23,800 0.70 1.39 30,784 0.90 1.80 27,235 0.77 1.54 26,107 0.73 1.45 29,739 0.82 1.64\n",
    "Japan 25,932 0.20 0.27 40,391 0.32 0.43 35,373 0.28 0.37 38,131 0.30 0.40 28,059 0.22 0.29\n",
    "Australia 20,197 0.85 1.55 20,802 0.91 1.65 22,032 0.93 1.69 22,916 0.97 1.76 25,192 1.04 1.90\n",
    "KoreaRep 22,004 0.44 1.76 24,937 0.50 2.02 25,434 0.51 2.02 19,946 0.40 1.59 23,824 0.47 1.88\n",
    "UK 15,646 0.25 0.50 13,922 0.22 0.45 18,187 0.28 0.57 22,465 0.35 0.69 23,244 0.35 0.71\n",
    "China 95,956 0.07 0.29 85,628 0.06 0.26 59,674 0.04 0.16 52,027 0.04 0.11 21,885 0.02 0.05\n",
    "Tunisia 13,200 1.25 1.79 15,976 1.51 2.16 16,395 1.49 2.13 15,377 1.37 1.95 19,028 1.67 2.38\n",
    "Iran 25,056 0.14 0.25 15,093 0.20 0.36 15,064 0.19 0.35 15,412 0.19 0.35 15,474 0.19 0.35\n",
    "Netherlands 13,321 0.80 1.60 19,137 1.15 2.30 14,190 0.85 1.71 14,649 0.87 1.73 15,056 0.89 1.77\n",
    "Greece 12,075 1.07 1.64 10,871 0.96 1.48 10,224 0.92 1.41 8,043 0.73 1.13 12,146 1.09 1.67\n",
    "Morocco 8,879 0.28 0.56 6,745 0.21 0.42 9,110 0.27 0.54 9,956 0.29 0.58 10,101 0.29 0.57\n",
    "SaudiArabia 9,132 0.33 0.44 6,414 0.23 0.31 7,619 0.26 0.35 7,370 0.23 0.31 9,945 0.31 0.41'''.split()"
   ]
  },
  {
   "cell_type": "code",
   "execution_count": 62,
   "metadata": {},
   "outputs": [],
   "source": [
    "fields_per_row = 16\n",
    "num_countries = int(len(dirty_almond_data)/fields_per_row)\n",
    "csv_header_almond = 'Entity,Code,Year,AlmondConsumptionPerCapita(kg/year),EstAlmondConsumptionPerCapita(kg/year)'"
   ]
  },
  {
   "cell_type": "code",
   "execution_count": 63,
   "metadata": {},
   "outputs": [],
   "source": [
    "with open('../Food Allergies Data/almond-consumption-per-capita.csv', 'w') as f:\n",
    "    f.write(general_nut_write(csv_header_almond, dirty_almond_data, fields_per_row, num_countries))\n",
    "f.close()"
   ]
  },
  {
   "cell_type": "markdown",
   "metadata": {},
   "source": [
    "## Brazil Nuts"
   ]
  },
  {
   "cell_type": "code",
   "execution_count": 64,
   "metadata": {},
   "outputs": [],
   "source": [
    "# Source: nutfruit.org\n",
    "dirty_brazilnut_data = '''UK 3,957 0.064 0.194 4,458 0.072 0.217 5,247 0.082 0.248 6,362 0.098 0.298 5,658 0.086 0.261\n",
    "Germany 3,202 0.039 0.130 4,501 0.055 0.184 4,219 0.052 0.173 3,714 0.046 0.153 4,448 0.054 0.181\n",
    "USA 7,571 0.024 0.073 7,021 0.023 0.069 7,858 0.025 0.075 8,002 0.025 0.075 2,755 0.009 0.026\n",
    "Italy 533 0.009 0.090 590 0.010 0.098 383 0.006 0.064 618 0.010 0.103 1,137 0.019 0.191\n",
    "Canada 770 0.023 0.230 926 0.027 0.271 946 0.027 0.268 1,550 0.043 0.431 876 0.024 0.241\n",
    "France 300 0.005 0.167 325 0.005 0.172 426 0.006 0.215 601 0.009 0.311 719 0.011 0.370\n",
    "Poland 95 0.002 0.025 165 0.004 0.043 245 0.006 0.064 425 0.011 0.110 526 0.014 0.138\n",
    "Australia 1,617 0.073 0.292 1,545 0.069 0.277 1,462 0.063 0.252 1,390 0.058 0.232 442 0.018 0.073\n",
    "Spain 415 0.009 0.030 244 0.005 0.018 408 0.009 0.029 481 0.010 0.035 416 0.009 0.030\n",
    "Belgium 205 0.019 0.063 154 0.014 0.047 362 0.033 0.109 280 0.025 0.083 410 0.036 0.120\n",
    "Russia 909 0.006 0.060 746 0.005 0.052 584 0.004 0.041 406 0.003 0.028 277 0.002 0.019\n",
    "NewZealand 296 0.068 0.272 370 0.085 0.339 443 0.098 0.390 491 0.108 0.433 273 0.059 0.234\n",
    "Ireland 124 0.028 0.112 140 0.031 0.126 171 0.036 0.143 256 0.055 0.218 257 0.054 0.181\n",
    "Sweden 699 0.075 0.750 221 0.024 0.235 270 0.028 0.280 206 0.021 0.211 223 0.023 0.227\n",
    "Austria 64 0.008 0.025 99 0.012 0.040 95 0.011 0.037 185 0.022 0.072 200 0.023 0.077\n",
    "Switzerland 74 0.009 0.090 118 0.015 0.150 119 0.015 0.146 144 0.017 0.174 173 0.021 0.206\n",
    "Czech 69 0.007 0.070 112 0.011 0.107 187 0.018 0.175 139 0.013 0.132 166 0.016 0.157\n",
    "Greece 39 0.003 0.011 22 0.002 0.007 121 0.011 0.036 91 0.008 0.028 105 0.009 0.031\n",
    "Portugal 22 0.002 0.007 40 0.004 0.012 78 0.007 0.025 112 0.011 0.036 95 0.009 0.031\n",
    "Slovakia 20 0.004 0.037 59 0.011 0.108 54 0.010 0.100 60 0.011 0.111 81 0.015 0.149'''.split()"
   ]
  },
  {
   "cell_type": "code",
   "execution_count": 65,
   "metadata": {},
   "outputs": [],
   "source": [
    "fields_per_row = 16\n",
    "num_countries = int(len(dirty_brazilnut_data)/fields_per_row)\n",
    "csv_header_brazil_nut = 'Entity,Code,Year,BrazilNutConsumptionPerCapita(kg/year),EstBrazilNutConsumptionPerCapita(kg/year)'"
   ]
  },
  {
   "cell_type": "code",
   "execution_count": 66,
   "metadata": {},
   "outputs": [],
   "source": [
    "with open('../Food Allergies Data/brazil-nut-consumption-per-capita.csv', 'w') as f:\n",
    "    f.write(general_nut_write(csv_header_brazil_nut, dirty_brazilnut_data, fields_per_row, num_countries))\n",
    "f.close()"
   ]
  },
  {
   "cell_type": "markdown",
   "metadata": {},
   "source": [
    "## Cashews"
   ]
  },
  {
   "cell_type": "code",
   "execution_count": 67,
   "metadata": {},
   "outputs": [],
   "source": [
    "# Source: nutfruit.org\n",
    "dirty_cashews_data = '''India 289,677 0.245 0.500 230,278 0.182 0.360 224,384 0.177 0.360 257,190 0.203 0.406 301,719 0.228 0.456\n",
    "USA 109,448 0.354 1.073 130,477 0.422 1.279 128,342 0.402 1.219 141,119 0.439 1.329 143,256 0.445 1.347\n",
    "Germany 26,177 0.320 1.281 25,591 0.313 1.252 23,016 0.283 1.133 23,810 0.295 1.180 35,930 0.439 1.097\n",
    "Netherlands 12,366 0.744 0.930 23,005 1.385 1.731 20,796 1.240 1.550 23,536 1.391 1.738 17,236 1.015 1.268\n",
    "UK 12,381 0.199 0.603 9,636 0.155 0.469 16,052 0.251 0.759 19,854 0.307 0.930 16,772 0.255 0.773\n",
    "Australia 15,491 0.695 1.389 15,763 0.707 1.414 16,572 0.715 1.430 15,893 0.663 1.326 16,471 0.683 1.365\n",
    "Canada 11,808 0.346 0.692 11,958 0.350 0.701 12,156 0.344 0.689 11,812 0.329 0.657 14,267 0.393 0.786\n",
    "France 8,416 0.134 0.535 8,698 0.138 0.553 10,027 0.151 0.606 10,418 0.162 0.647 8,649 0.134 0.535\n",
    "Japan 7,580 0.059 0.108 8,146 0.064 0.116 11,523 0.091 0.166 11,235 0.089 0.161 8,040 0.063 0.114\n",
    "SaudiArabia 6,203 0.225 0.682 5,310 0.193 0.584 7,977 0.272 0.823 8,541 0.271 0.821 7,854 0.243 0.737\n",
    "Italy 5,410 0.089 0.596 4,744 0.078 0.523 7,000 0.117 0.783 6,745 0.113 0.752 7,060 0.119 0.792\n",
    "Thailand 5,920 0.088 0.131 6,010 0.089 0.133 8,164 0.121 0.181 8,290 0.122 0.182 6,213 0.090 0.129\n",
    "Russia 10,094 0.071 0.284 10,060 0.071 0.283 12,161 0.086 0.345 3,604 0.025 0.100 5,830 0.040 0.162\n",
    "Israel 4,041 0.530 1.060 2,840 0.373 0.745 4,490 0.561 1.121 4,349 0.539 1.079 4,001 0.488 0.977\n",
    "China 51,043 0.038 0.116 51,350 0.038 0.116 52,159 0.038 0.115 49,925 0.036 0.109 3,998 0.003 0.008\n",
    "KoreaRep 1,150 0.023 0.071 2,676 0.054 0.164 3,920 0.078 0.236 3,085 0.061 0.186 3,964 0.078 0.237\n",
    "Spain 4,383 0.095 0.381 4,935 0.107 0.428 4,511 0.096 0.382 5,303 0.115 0.460 3,498 0.075 0.302\n",
    "Malaysia 2,120 0.075 0.150 1,323 0.047 0.094 2,013 0.067 0.133 2,297 0.076 0.151 2,971 0.095 0.191\n",
    "NewZealand 2,389 0.547 1.094 2,651 0.607 1.214 2,884 0.635 1.270 3,006 0.664 1.328 2,811 0.603 1.206\n",
    "Sweden 1,301 0.139 0.555 2,213 0.236 0.944 2,090 0.217 0.869 2,080 0.213 0.851 2,739 0.278 1.114'''.split()"
   ]
  },
  {
   "cell_type": "code",
   "execution_count": 68,
   "metadata": {},
   "outputs": [],
   "source": [
    "fields_per_row = 16\n",
    "num_countries = int(len(dirty_cashews_data)/fields_per_row)\n",
    "csv_header_cashew = 'Entity,Code,Year,CashewConsumptionPerCapita(kg/year),EstCashewConsumptionPerCapita(kg/year)'"
   ]
  },
  {
   "cell_type": "code",
   "execution_count": 69,
   "metadata": {},
   "outputs": [],
   "source": [
    "with open('../Food Allergies Data/cashew-consumption-per-capita.csv', 'w') as f:\n",
    "    f.write(general_nut_write(csv_header_cashew, dirty_cashews_data, fields_per_row, num_countries))\n",
    "f.close()"
   ]
  },
  {
   "cell_type": "markdown",
   "metadata": {},
   "source": [
    "## Hazelnuts"
   ]
  },
  {
   "cell_type": "code",
   "execution_count": 70,
   "metadata": {},
   "outputs": [],
   "source": [
    "# Source: nutfruit.org\n",
    "dirty_hazelnuts_data = '''Italy 71,884 1.19 1.58 88,227 1.46 1.94 79,130 1.33 1.77 89,473 1.50 2.00 78,000 1.31 1.75\n",
    "Turkey 84,214 1.15 2.30 65,000 0.89 1.78 60,531 0.80 1.60 40,000 0.51 1.02 60,000 0.75 1.51\n",
    "Germany 52,599 0.64 1.29 61,676 0.75 1.51 51,252 0.63 1.26 58,615 0.73 1.45 55,572 0.68 1.36\n",
    "France 27,880 0.44 1.77 26,145 0.42 1.66 24,699 0.37 1.49 27,181 0.42 1.69 25,290 0.39 1.56\n",
    "USA 15,067 0.03 0.08 16,289 0.02 0.07 17,131 0.04 0.11 8,276 0.03 0.08 15,284 0.05 0.14\n",
    "Canada 11,105 0.33 0.98 9,596 0.28 0.85 9,504 0.27 0.82 12,652 0.35 1.07 11,331 0.31 0.95\n",
    "Spain 10,922 0.24 0.47 12,343 0.27 0.54 11,000 0.23 0.47 12,228 0.27 0.53 10,038 0.22 0.43\n",
    "Azerbaijan 7,611 0.84 0.93 5,150 0.57 0.63 1,604 0.17 0.19 7,873 0.81 0.90 9,917 1.02 1.13\n",
    "Switzerland 8,556 1.09 1.46 9,737 1.24 1.66 9,651 1.19 1.58 8,607 1.04 1.38 9,206 1.10 1.46\n",
    "Russia 13,174 0.09 0.37 9,168 0.06 0.26 11,217 0.08 0.32 6,200 0.04 0.17 5,479 0.04 0.15\n",
    "Belgium 6,684 0.61 0.82 6,959 0.64 0.85 6,547 0.59 0.79 4,606 0.41 0.54 4,652 0.41 0.55\n",
    "Poland 10,159 0.27 1.06 8,673 0.23 0.91 7,833 0.21 0.82 11,494 0.30 1.19 3,449 0.09 0.36\n",
    "Australia 2,763 0.12 0.38 2,886 0.13 0.34 2,594 0.11 0.30 2,548 0.11 0.28 2,819 0.12 0.35\n",
    "Brazil 2,801 0.01 0.06 2,385 0.01 0.05 3,040 0.02 0.06 3,044 0.01 0.06 2,635 0.01 0.05\n",
    "Austria 1,663 0.20 0.40 2,312 0.28 0.55 2,603 0.31 0.61 2,293 0.27 0.54 2,026 0.23 0.47\n",
    "Egypt 3,578 0.05 0.18 2,773 0.04 0.14 2,059 0.02 0.10 1,882 0.02 0.08 1,832 0.02 0.08\n",
    "UK 1,689 0.03 0.08 2,246 0.04 0.11 1,638 0.03 0.08 1,625 0.03 0.08 1,214 0.02 0.06\n",
    "Greece 1,953 0.17 0.69 1,884 0.17 0.67 1,400 0.13 0.50 1,086 0.10 0.40 1,196 0.11 0.43\n",
    "Israel 1,704 0.22 0.90 1,182 0.16 0.62 1,264 0.16 0.63 996 0.12 0.49 1,116 0.14 0.55\n",
    "SaudiArabia 731 0.03 0.11 723 0.03 0.10 663 0.02 0.09 763 0.02 0.10 857 0.03 0.11'''.split()"
   ]
  },
  {
   "cell_type": "code",
   "execution_count": 72,
   "metadata": {},
   "outputs": [],
   "source": [
    "fields_per_row = 16\n",
    "num_countries = int(len(dirty_hazelnuts_data)/fields_per_row)\n",
    "csv_header_hazelnuts = 'Entity,Code,Year,HazelnutsConsumptionPerCapita(kg/year),EstHazelnutsConsumptionPerCapita(kg/year)'"
   ]
  },
  {
   "cell_type": "code",
   "execution_count": 77,
   "metadata": {},
   "outputs": [],
   "source": [
    "with open('../Food Allergies Data/hazelnuts-consumption-per-capita.csv', 'w') as f:\n",
    "    f.write(general_nut_write(csv_header_hazelnuts, dirty_hazelnuts_data, fields_per_row, num_countries))\n",
    "f.close()"
   ]
  },
  {
   "cell_type": "markdown",
   "metadata": {},
   "source": [
    "## Macadamia"
   ]
  },
  {
   "cell_type": "code",
   "execution_count": 78,
   "metadata": {},
   "outputs": [],
   "source": [
    "# Source nutfruit.org\n",
    "dirty_macadamia_data = '''USA 9,830 0.032 0.127 9,370 0.030 0.121 10,269 0.033 0.133 9,907 0.031 0.123 8,829 0.027 0.110\n",
    "China 4,539 0.003 0.030 5,843 0.004 0.044 2,691 0.002 0.020 1,657 0.001 0.012 4,055 0.003 0.028\n",
    "Australia 2,871 0.129 0.257 3,328 0.149 0.298 3,157 0.136 0.272 3,255 0.136 0.272 3,347 0.139 0.277\n",
    "Japan 2,187 0.017 0.052 2,001 0.016 0.047 1,976 0.016 0.047 2,250 0.018 0.054 3,233 0.025 0.077\n",
    "Kenya 3,470 0.086 0.262 2,374 0.059 0.179 3,507 0.077 0.233 4,090 0.089 0.269 2,634 0.054 0.165\n",
    "Germany 701 0.009 0.045 1,206 0.015 0.074 1,222 0.015 0.075 1,869 0.023 0.116 2,011 0.025 0.123\n",
    "Brazil 984 0.005 0.050 1,064 0.006 0.055 1,054 0.005 0.052 1,328 0.006 0.064 1,431 0.007 0.069\n",
    "Canada 1,241 0.036 0.072 960 0.028 0.056 2,130 0.060 0.121 991 0.028 0.055 1,001 0.028 0.055\n",
    "KoreaRep 301 0.006 0.060 196 0.004 0.040 306 0.006 0.061 504 0.010 0.100 667 0.013 0.131\n",
    "Spain 209 0.005 0.017 236 0.005 0.017 358 0.008 0.025 284 0.006 0.021 613 0.013 0.044\n",
    "UK 268 0.004 0.020 294 0.005 0.024 472 0.007 0.037 639 0.010 0.049 436 0.007 0.033\n",
    "Malaysia 164 0.006 0.024 123 0.004 0.017 138 0.005 0.018 185 0.006 0.024 225 0.007 0.029\n",
    "Thailand 320 0.005 0.050 25 0.000 0.004 27 0.000 0.004 77 0.001 0.011 209 0.003 0.030\n",
    "NewZealand 97 0.022 0.088 148 0.034 0.135 74 0.016 0.065 226 0.050 0.200 201 0.043 0.172\n",
    "Italy 177 0.003 0.012 211 0.003 0.014 146 0.002 0.010 244 0.004 0.016 198 0.003 0.013\n",
    "Singapore 208 0.041 0.164 123 0.024 0.097 341 0.062 0.248 206 0.037 0.147 170 0.030 0.121\n",
    "France 141 0.002 0.008 112 0.002 0.007 173 0.003 0.010 205 0.003 0.013 157 0.002 0.010\n",
    "Israel 41 0.005 0.036 110 0.014 0.096 29 0.004 0.024 110 0.014 0.091 127 0.016 0.104\n",
    "Kuwait 114 0.043 0.426 97 0.036 0.364 109 0.031 0.312 54 0.014 0.138 70 0.017 0.172\n",
    "Lebanon 45 0.011 0.107 84 0.020 0.200 78 0.016 0.158 51 0.009 0.087 69 0.011 0.114'''.split()"
   ]
  },
  {
   "cell_type": "code",
   "execution_count": 80,
   "metadata": {},
   "outputs": [],
   "source": [
    "fields_per_row = 16\n",
    "num_countries = int(len(dirty_macadamia_data)/fields_per_row)\n",
    "csv_header_macadamia = 'Entity,Code,Year,MacadamiaConsumptionPerCapita(kg/year),EstMacadamiaConsumptionPerCapita(kg/year)' "
   ]
  },
  {
   "cell_type": "code",
   "execution_count": 83,
   "metadata": {},
   "outputs": [
    {
     "ename": "KeyError",
     "evalue": "'Singapore'",
     "output_type": "error",
     "traceback": [
      "\u001b[0;31m---------------------------------------------------------------------------\u001b[0m",
      "\u001b[0;31mKeyError\u001b[0m                                  Traceback (most recent call last)",
      "\u001b[0;32m<ipython-input-83-84fc91e14628>\u001b[0m in \u001b[0;36m<module>\u001b[0;34m\u001b[0m\n\u001b[1;32m      1\u001b[0m \u001b[0;32mwith\u001b[0m \u001b[0mopen\u001b[0m\u001b[0;34m(\u001b[0m\u001b[0;34m'../Food Allergies Data/macadamia-consumption-per-capita.csv'\u001b[0m\u001b[0;34m,\u001b[0m \u001b[0;34m'w'\u001b[0m\u001b[0;34m)\u001b[0m \u001b[0;32mas\u001b[0m \u001b[0mf\u001b[0m\u001b[0;34m:\u001b[0m\u001b[0;34m\u001b[0m\u001b[0;34m\u001b[0m\u001b[0m\n\u001b[0;32m----> 2\u001b[0;31m     \u001b[0mf\u001b[0m\u001b[0;34m.\u001b[0m\u001b[0mwrite\u001b[0m\u001b[0;34m(\u001b[0m\u001b[0mgeneral_nut_write\u001b[0m\u001b[0;34m(\u001b[0m\u001b[0mcsv_header_macadamia\u001b[0m\u001b[0;34m,\u001b[0m \u001b[0mdirty_macadamia_data\u001b[0m\u001b[0;34m,\u001b[0m \u001b[0mfields_per_row\u001b[0m\u001b[0;34m,\u001b[0m \u001b[0mnum_countries\u001b[0m\u001b[0;34m)\u001b[0m\u001b[0;34m)\u001b[0m\u001b[0;34m\u001b[0m\u001b[0;34m\u001b[0m\u001b[0m\n\u001b[0m\u001b[1;32m      3\u001b[0m \u001b[0mf\u001b[0m\u001b[0;34m.\u001b[0m\u001b[0mclose\u001b[0m\u001b[0;34m(\u001b[0m\u001b[0;34m)\u001b[0m\u001b[0;34m\u001b[0m\u001b[0;34m\u001b[0m\u001b[0m\n",
      "\u001b[0;32m<ipython-input-60-c068cd0b3c75>\u001b[0m in \u001b[0;36mgeneral_nut_write\u001b[0;34m(csv_header, dirty_s, fields_per_row, num_countries)\u001b[0m\n\u001b[1;32m     14\u001b[0m \u001b[0;34m\u001b[0m\u001b[0m\n\u001b[1;32m     15\u001b[0m             \u001b[0mret_string\u001b[0m \u001b[0;34m+=\u001b[0m \u001b[0mnco\u001b[0m \u001b[0;34m+\u001b[0m \u001b[0;34m','\u001b[0m \u001b[0;34m+\u001b[0m\u001b[0mentity_code\u001b[0m\u001b[0;34m[\u001b[0m\u001b[0mco\u001b[0m\u001b[0;34m]\u001b[0m \u001b[0;34m+\u001b[0m \u001b[0;34m','\u001b[0m \u001b[0;34m+\u001b[0m \u001b[0mstr\u001b[0m\u001b[0;34m(\u001b[0m\u001b[0myear\u001b[0m\u001b[0;34m)\u001b[0m \u001b[0;34m+\u001b[0m \u001b[0;34m','\u001b[0m \u001b[0;34m+\u001b[0m\u001b[0;31m\\\u001b[0m\u001b[0;34m\u001b[0m\u001b[0;34m\u001b[0m\u001b[0m\n\u001b[0;32m---> 16\u001b[0;31m                           \u001b[0mdirty_s\u001b[0m\u001b[0;34m[\u001b[0m\u001b[0msp\u001b[0m\u001b[0;34m]\u001b[0m\u001b[0;34m+\u001b[0m\u001b[0;34m','\u001b[0m\u001b[0;34m+\u001b[0m\u001b[0mdirty_s\u001b[0m\u001b[0;34m[\u001b[0m\u001b[0msp\u001b[0m\u001b[0;34m+\u001b[0m\u001b[0;36m1\u001b[0m\u001b[0;34m]\u001b[0m \u001b[0;34m+\u001b[0m \u001b[0;34m'\\n'\u001b[0m\u001b[0;34m\u001b[0m\u001b[0;34m\u001b[0m\u001b[0m\n\u001b[0m\u001b[1;32m     17\u001b[0m \u001b[0;34m\u001b[0m\u001b[0m\n\u001b[1;32m     18\u001b[0m     \u001b[0;32mreturn\u001b[0m \u001b[0mret_string\u001b[0m\u001b[0;34m\u001b[0m\u001b[0;34m\u001b[0m\u001b[0m\n",
      "\u001b[0;31mKeyError\u001b[0m: 'Singapore'"
     ]
    }
   ],
   "source": [
    "with open('../Food Allergies Data/macadamia-consumption-per-capita.csv', 'w') as f:\n",
    "    f.write(general_nut_write(csv_header_macadamia, dirty_macadamia_data, fields_per_row, num_countries))\n",
    "f.close()"
   ]
  },
  {
   "cell_type": "code",
   "execution_count": null,
   "metadata": {},
   "outputs": [],
   "source": []
  }
 ],
 "metadata": {
  "kernelspec": {
   "display_name": "Python 3",
   "language": "python",
   "name": "python3"
  },
  "language_info": {
   "codemirror_mode": {
    "name": "ipython",
    "version": 3
   },
   "file_extension": ".py",
   "mimetype": "text/x-python",
   "name": "python",
   "nbconvert_exporter": "python",
   "pygments_lexer": "ipython3",
   "version": "3.7.2"
  }
 },
 "nbformat": 4,
 "nbformat_minor": 4
}
