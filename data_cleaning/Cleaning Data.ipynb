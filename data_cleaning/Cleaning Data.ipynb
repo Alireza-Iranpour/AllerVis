{
 "cells": [
  {
   "cell_type": "code",
   "execution_count": 1,
   "metadata": {},
   "outputs": [],
   "source": [
    "import numpy as np\n",
    "import pandas as pd"
   ]
  },
  {
   "cell_type": "code",
   "execution_count": 13,
   "metadata": {},
   "outputs": [
    {
     "data": {
      "text/plain": [
       "Index(['Entity', 'Code', 'Year',\n",
       "       'Food Balance Sheets: Wheat and products - Food supply (kcal/capita/day) (FAO (2017))',\n",
       "       'Food Balance Sheets: Rice (Milled Equivalent) - Food supply (kcal/capita/day) (FAO (2017))',\n",
       "       'Food Balance Sheets: Barley and products - Food supply (kcal/capita/day) (FAO (2017))',\n",
       "       'Food Balance Sheets: Maize and products - Food supply (kcal/capita/day) (FAO (2017))',\n",
       "       'Food Balance Sheets: Rye and products - Food supply (kcal/capita/day) (FAO (2017))',\n",
       "       'Food Balance Sheets: Oats - Food supply (kcal/capita/day) (FAO (2017))',\n",
       "       'Food Balance Sheets: Sorghum and products - Food supply (kcal/capita/day) (FAO (2017))'],\n",
       "      dtype='object')"
      ]
     },
     "execution_count": 13,
     "metadata": {},
     "output_type": "execute_result"
    }
   ],
   "source": [
    "cereal_df = pd.read_csv('../Food Allergies Data/per-capita-consumption-of-cereals-by-commodity-type-daily-kilocalories.csv')\n",
    "cereal_df.columns"
   ]
  },
  {
   "cell_type": "markdown",
   "metadata": {},
   "source": [
    "#### Isolating Wheat"
   ]
  },
  {
   "cell_type": "code",
   "execution_count": 14,
   "metadata": {},
   "outputs": [],
   "source": [
    "with open('../Food Allergies Data/wheat-consumption-per-capita.csv', 'w') as f:\n",
    "    f.write(cereal_df.to_csv(columns=['Entity', 'Code', 'Year', 'Food Balance Sheets: Wheat and products - Food supply (kcal/capita/day) (FAO (2017))']))\n",
    "f.close()"
   ]
  },
  {
   "cell_type": "markdown",
   "metadata": {},
   "source": [
    "#### Isolating Rice"
   ]
  },
  {
   "cell_type": "code",
   "execution_count": 15,
   "metadata": {},
   "outputs": [],
   "source": [
    "with open('../Food Allergies Data/rice-consumption-per-capita.csv', 'w') as f:\n",
    "    f.write(cereal_df.to_csv(columns=['Entity', 'Code', 'Year', 'Food Balance Sheets: Rice (Milled Equivalent) - Food supply (kcal/capita/day) (FAO (2017))']))\n",
    "f.close()"
   ]
  },
  {
   "cell_type": "markdown",
   "metadata": {},
   "source": [
    "#### Isolating Oats"
   ]
  },
  {
   "cell_type": "code",
   "execution_count": 16,
   "metadata": {},
   "outputs": [],
   "source": [
    "with open('../Food Allergies Data/oats-consumption-per-capita.csv', 'w') as f:\n",
    "    f.write(cereal_df.to_csv(columns=['Entity', 'Code', 'Year', 'Food Balance Sheets: Oats - Food supply (kcal/capita/day) (FAO (2017))']))\n",
    "f.close()"
   ]
  },
  {
   "cell_type": "markdown",
   "metadata": {},
   "source": [
    "#### Isolating Corn (Maize)"
   ]
  },
  {
   "cell_type": "code",
   "execution_count": null,
   "metadata": {},
   "outputs": [],
   "source": [
    "with open('../Food Allergies Data/corn-maize-consumption-per-capita.csv', 'w') as f:\n",
    "    f.write(cereal_df.to_csv(columns=['Entity', 'Code', 'Year', 'Food Balance Sheets: Maize and products - Food supply (kcal/capita/day) (FAO (2017))']))\n",
    "f.close()"
   ]
  }
 ],
 "metadata": {
  "kernelspec": {
   "display_name": "Python 3",
   "language": "python",
   "name": "python3"
  },
  "language_info": {
   "codemirror_mode": {
    "name": "ipython",
    "version": 3
   },
   "file_extension": ".py",
   "mimetype": "text/x-python",
   "name": "python",
   "nbconvert_exporter": "python",
   "pygments_lexer": "ipython3",
   "version": "3.7.2"
  }
 },
 "nbformat": 4,
 "nbformat_minor": 4
}
